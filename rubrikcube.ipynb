{
  "nbformat": 4,
  "nbformat_minor": 0,
  "metadata": {
    "colab": {
      "provenance": [],
      "authorship_tag": "ABX9TyOnZh1TgxBjg9zcJ33lnqsA",
      "include_colab_link": true
    },
    "kernelspec": {
      "name": "python3",
      "display_name": "Python 3"
    },
    "language_info": {
      "name": "python"
    }
  },
  "cells": [
    {
      "cell_type": "markdown",
      "metadata": {
        "id": "view-in-github",
        "colab_type": "text"
      },
      "source": [
        "<a href=\"https://colab.research.google.com/github/raunakyadav92/rubrikcube/blob/main/rubrikcube.ipynb\" target=\"_parent\"><img src=\"https://colab.research.google.com/assets/colab-badge.svg\" alt=\"Open In Colab\"/></a>"
      ]
    },
    {
      "cell_type": "code",
      "execution_count": null,
      "metadata": {
        "id": "fNTFxOy3IPgb"
      },
      "outputs": [],
      "source": [
        "# Each face represented by 3x3 matrix (list of lists)\n",
        "# Faces: U (Up), D (Down), F (Front), B (Back), L (Left), R (Right)\n",
        "cube = {\n",
        "    'U': [['W']*3 for _ in range(3)],\n",
        "    'D': [['Y']*3 for _ in range(3)],\n",
        "    'F': [['G']*3 for _ in range(3)],\n",
        "    'B': [['B']*3 for _ in range(3)],\n",
        "    'L': [['O']*3 for _ in range(3)],\n",
        "    'R': [['R']*3 for _ in range(3)]\n",
        "}\n"
      ]
    },
    {
      "cell_type": "code",
      "source": [
        "def rotate_face_clockwise(face):\n",
        "    # Rotate 3x3 matrix clockwise\n",
        "    return [list(row) for row in zip(*face[::-1])]\n",
        "\n",
        "# Rotate Front face\n",
        "cube['F'] = rotate_face_clockwise(cube['F'])\n"
      ],
      "metadata": {
        "id": "ggkk9vWOITAI"
      },
      "execution_count": null,
      "outputs": []
    }
  ]
}